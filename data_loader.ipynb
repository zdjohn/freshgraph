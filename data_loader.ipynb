{
 "cells": [
  {
   "cell_type": "markdown",
   "metadata": {},
   "source": [
    "### Data: HetRec 2011 MovieLens + IMDb/Rotten Tomatoes\n",
    "https://grouplens.org/datasets/hetrec-2011/\n",
    "readme: http://files.grouplens.org/datasets/hetrec2011/hetrec2011-movielens-readme.txt"
   ]
  },
  {
   "cell_type": "code",
   "execution_count": 1,
   "metadata": {},
   "outputs": [],
   "source": [
    "from freshgraph import data_loader\n",
    "from freshgraph.data_loader import user_item_tuple_train"
   ]
  },
  {
   "cell_type": "markdown",
   "metadata": {},
   "source": [
    "## load data into graph structure"
   ]
  },
  {
   "cell_type": "code",
   "execution_count": 2,
   "metadata": {},
   "outputs": [
    {
     "name": "stdout",
     "output_type": "stream",
     "text": [
      "Number of nodes 35462 and number of edges 83732 in graph.\n",
      "CPU times: user 8.34 s, sys: 25.2 ms, total: 8.36 s\n",
      "Wall time: 8.36 s\n"
     ]
    }
   ],
   "source": [
    "%%time\n",
    "movie_feature_graph = data_loader.get_graph()"
   ]
  },
  {
   "cell_type": "markdown",
   "metadata": {},
   "source": [
    "### Step 1: candidating"
   ]
  },
  {
   "cell_type": "code",
   "execution_count": 12,
   "metadata": {},
   "outputs": [],
   "source": [
    "import warnings\n",
    "warnings.filterwarnings('ignore')\n",
    "## tensorflow warning supression\n",
    "from freshgraph import candidating"
   ]
  },
  {
   "cell_type": "markdown",
   "metadata": {},
   "source": [
    "#### create metapath2vec based model for item to item similarity"
   ]
  },
  {
   "cell_type": "code",
   "execution_count": 5,
   "metadata": {},
   "outputs": [
    {
     "name": "stdout",
     "output_type": "stream",
     "text": [
      "Number of random walks: 30591\n",
      "CPU times: user 24min 44s, sys: 511 ms, total: 24min 45s\n",
      "Wall time: 20min 12s\n"
     ]
    }
   ],
   "source": [
    "%%time\n",
    "# metapath2vec_model = candidating.get_candidates_model(movie_feature_graph)\n",
    "# metapath2vec_model.save(\"movie.model\")"
   ]
  },
  {
   "cell_type": "code",
   "execution_count": 5,
   "metadata": {},
   "outputs": [],
   "source": [
    "from gensim.models import Word2Vec\n",
    "metapath2vec_model = Word2Vec.load(\"movie.model\")"
   ]
  },
  {
   "cell_type": "code",
   "execution_count": 7,
   "metadata": {},
   "outputs": [],
   "source": [
    "validate_id = 3884 # Star Trek: 3884\n",
    "similar_items = candidating.get_similar_items(metapath2vec_model, validate_id)"
   ]
  },
  {
   "cell_type": "code",
   "execution_count": 9,
   "metadata": {},
   "outputs": [],
   "source": [
    "ordered_item_list = candidating.sort_similar_item_by_score(similar_items)"
   ]
  },
  {
   "cell_type": "code",
   "execution_count": 11,
   "metadata": {},
   "outputs": [
    {
     "data": {
      "text/plain": [
       "[('67542', 5.835205405950546),\n",
       " ('19982', 5.349946886301041),\n",
       " ('45478', 4.894431859254837),\n",
       " ('2852', 4.832559555768967),\n",
       " ('41154', 4.777030050754547),\n",
       " ('71420', 4.378852993249893),\n",
       " ('40456', 4.357025891542435),\n",
       " ('55560', 3.880859285593033),\n",
       " ('34958', 3.8607530891895294),\n",
       " ('56091', 3.8434188067913055)]"
      ]
     },
     "execution_count": 11,
     "metadata": {},
     "output_type": "execute_result"
    }
   ],
   "source": [
    "ranked_user = candidating.get_ranked_user(user_item_tuple_train, similar_items)\n",
    "ranked_user[:10]"
   ]
  },
  {
   "cell_type": "code",
   "execution_count": null,
   "metadata": {},
   "outputs": [],
   "source": []
  }
 ],
 "metadata": {
  "kernelspec": {
   "display_name": "freshgraph",
   "language": "python",
   "name": "freshgraph"
  },
  "language_info": {
   "codemirror_mode": {
    "name": "ipython",
    "version": 3
   },
   "file_extension": ".py",
   "mimetype": "text/x-python",
   "name": "python",
   "nbconvert_exporter": "python",
   "pygments_lexer": "ipython3",
   "version": "3.6.8"
  }
 },
 "nbformat": 4,
 "nbformat_minor": 2
}
